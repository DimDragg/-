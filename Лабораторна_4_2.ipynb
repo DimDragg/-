{
  "nbformat": 4,
  "nbformat_minor": 0,
  "metadata": {
    "colab": {
      "provenance": [],
      "authorship_tag": "ABX9TyN+vYujGh6/qq6BY+/a/42/",
      "include_colab_link": true
    },
    "kernelspec": {
      "name": "python3",
      "display_name": "Python 3"
    },
    "language_info": {
      "name": "python"
    }
  },
  "cells": [
    {
      "cell_type": "markdown",
      "metadata": {
        "id": "view-in-github",
        "colab_type": "text"
      },
      "source": [
        "<a href=\"https://colab.research.google.com/github/DimDragg/-/blob/main/%D0%9B%D0%B0%D0%B1%D0%BE%D1%80%D0%B0%D1%82%D0%BE%D1%80%D0%BD%D0%B0_4_2.ipynb\" target=\"_parent\"><img src=\"https://colab.research.google.com/assets/colab-badge.svg\" alt=\"Open In Colab\"/></a>"
      ]
    },
    {
      "cell_type": "markdown",
      "source": [
        "Чуркін Дмитро, був присутній на конференції, варіант 13, ФІТ 2-15"
      ],
      "metadata": {
        "id": "zUedxN6TrqK0"
      }
    },
    {
      "cell_type": "code",
      "source": [
        "import numpy as np\n",
        "a = np.array([\n",
        "   \t\t [1, -4, -5],\n",
        "   \t\t [2, -3, 1],\n",
        "   \t\t [1, 4, 2],\n",
        "])\n",
        "b = np.array([[-5], [-7], [-1]])\n"
      ],
      "metadata": {
        "id": "tWuom2xksoH9"
      },
      "execution_count": 26,
      "outputs": []
    },
    {
      "cell_type": "code",
      "source": [
        "#Матричний метод (1 спосіб)\n",
        "det_a = np.linalg.det(a)\n",
        "if det_a == 0:\n",
        "    print(\"Визначник дорівнює нулю - рішень немає\")\n",
        "else:\n",
        "    a_inv = np.linalg.inv(a)\n",
        "    print(f\"Обернена матриця до матриці A: \\r\\n {a_inv }\")\n",
        "    print(f\"Вектор рішення: \\r\\n {a_inv.dot(b)}\")"
      ],
      "metadata": {
        "colab": {
          "base_uri": "https://localhost:8080/"
        },
        "id": "Le1Z-8kgsmvp",
        "outputId": "e41f15f2-c423-4374-fe4c-390b9b6d95aa"
      },
      "execution_count": 27,
      "outputs": [
        {
          "output_type": "stream",
          "name": "stdout",
          "text": [
            "Обернена матриця до матриці A: \r\n",
            " [[ 0.18867925  0.22641509  0.35849057]\n",
            " [ 0.05660377 -0.13207547  0.20754717]\n",
            " [-0.20754717  0.1509434  -0.09433962]]\n",
            "Вектор рішення: \r\n",
            " [[-2.88679245]\n",
            " [ 0.43396226]\n",
            " [ 0.0754717 ]]\n"
          ]
        }
      ]
    },
    {
      "cell_type": "code",
      "source": [
        "import numpy as np\n",
        "\n",
        "def solve_inv_matrix(a, b, verbose=False):\n",
        "    det = np.linalg.det(a)\n",
        "    if verbose:\n",
        "        print(f\"Визначник матриці A: {round(det, 2)}\")\n",
        "\n",
        "    if det == 0:\n",
        "        print(\"Визначник дорівнює нулю — система не має єдиного розв’язку.\")\n",
        "        return None\n",
        "\n",
        "    a_inv = np.linalg.inv(a)\n",
        "    if verbose:\n",
        "        print(f\"Обернена матриця до матриці A:\\n{a_inv}\")\n",
        "\n",
        "    x = a_inv.dot(b)\n",
        "    if verbose:\n",
        "        print(f\"Вектор розв’язку:\\n{x}\")\n",
        "    return x\n",
        "\n",
        "# Тестовий приклад:\n",
        "a = np.array([[2, 1], [5, 3]])\n",
        "b = np.array([3, 7])\n",
        "print(f\"Вектор рішення:\\n{solve_inv_matrix(a, b, verbose=True)}\")"
      ],
      "metadata": {
        "colab": {
          "base_uri": "https://localhost:8080/"
        },
        "id": "jVcTaoYQZ4uW",
        "outputId": "959fff54-57f1-44ef-eb87-a2e82705481f"
      },
      "execution_count": null,
      "outputs": [
        {
          "output_type": "stream",
          "name": "stdout",
          "text": [
            "Визначник матриці A: 1.0\n",
            "Обернена матриця до матриці A:\n",
            "[[ 3. -1.]\n",
            " [-5.  2.]]\n",
            "Вектор розв’язку:\n",
            "[ 2. -1.]\n",
            "Вектор рішення:\n",
            "[ 2. -1.]\n"
          ]
        }
      ]
    },
    {
      "cell_type": "code",
      "source": [
        "# Напиши функцію для вирішення системи методом Крамера\n",
        "import numpy as np\n",
        "\n",
        "def solve_cramer(a, b, verbose=False):\n",
        "    det = np.linalg.det(a)\n",
        "    if verbose:\n",
        "        print(f\"Визначник матриці A: {round(det, 2)}\")\n",
        "    if det == 0:\n",
        "        print(\"Визначник дорівнює нулю — система не має єдиного розв’язку.\")\n",
        "        return None\n",
        "\n",
        "    n = len(a)\n",
        "    b = b.reshape(-1, 1)  # гарантуємо, що b — стовпець\n",
        "    x = np.zeros(n)\n",
        "\n",
        "    for i in range(n):\n",
        "        temp = np.copy(a)\n",
        "        temp[:, i] = b[:, 0]\n",
        "        det_temp = np.linalg.det(temp)\n",
        "        x[i] = det_temp / det\n",
        "        if verbose:\n",
        "            print(f\"Матриця A з заміненим стовпцем {i+1}:\\n{temp}\")\n",
        "            print(f\"Визначник цієї матриці: {round(det_temp, 2)}\\n\")\n",
        "\n",
        "    return x\n",
        "\n",
        "# Приклад використання:\n",
        "a = np.array([[2, 1], [5, 3]])\n",
        "b = np.array([3, 7])\n",
        "print(f\"Вектор рішення:\\n{solve_cramer(a, b, verbose=True)}\")"
      ],
      "metadata": {
        "colab": {
          "base_uri": "https://localhost:8080/"
        },
        "id": "PMWBAzetbydw",
        "outputId": "62ddfc9d-6ae5-4dfa-c6bc-2a23adef8314"
      },
      "execution_count": 28,
      "outputs": [
        {
          "output_type": "stream",
          "name": "stdout",
          "text": [
            "Визначник матриці A: 1.0\n",
            "Матриця A з заміненим стовпцем 1:\n",
            "[[3 1]\n",
            " [7 3]]\n",
            "Визначник цієї матриці: 2.0\n",
            "\n",
            "Матриця A з заміненим стовпцем 2:\n",
            "[[2 3]\n",
            " [5 7]]\n",
            "Визначник цієї матриці: -1.0\n",
            "\n",
            "Вектор рішення:\n",
            "[ 2. -1.]\n"
          ]
        }
      ]
    },
    {
      "cell_type": "code",
      "source": [
        "x = np.linalg.solve(a, b)\n",
        "\n",
        "print(x)"
      ],
      "metadata": {
        "colab": {
          "base_uri": "https://localhost:8080/"
        },
        "id": "SXFZ-AMIwCQM",
        "outputId": "447597a0-1461-4ccf-e90e-96e8bcf354d9"
      },
      "execution_count": 29,
      "outputs": [
        {
          "output_type": "stream",
          "name": "stdout",
          "text": [
            "[ 2. -1.]\n"
          ]
        }
      ]
    },
    {
      "cell_type": "code",
      "source": [
        "import numpy as np\n",
        "\n",
        "def solve_gauss(a, b, verbose=False):\n",
        "    det = np.linalg.det(a)\n",
        "    if verbose:\n",
        "        print(f\"Визначник матриці A: {round(det, 2)}\")\n",
        "    if det == 0:\n",
        "        print(\"Визначник дорівнює нулю — система не має єдиного розв’язку.\")\n",
        "        return None\n",
        "\n",
        "    n = len(b)\n",
        "    m = np.hstack((a.astype(float), b.reshape(-1, 1).astype(float)))\n",
        "\n",
        "    # Прямий хід методу Гауса-Жордана\n",
        "    for i in range(n):\n",
        "        # Пошук головного елемента\n",
        "        if m[i, i] == 0:\n",
        "            for k in range(i + 1, n):\n",
        "                if m[k, i] != 0:\n",
        "                    m[[i, k]] = m[[k, i]]\n",
        "                    break\n",
        "\n",
        "        # Робимо провідний елемент рівним 1\n",
        "        m[i] = m[i] / m[i, i]\n",
        "\n",
        "        # Занулення інших елементів у стовпці\n",
        "        for j in range(n):\n",
        "            if i != j:\n",
        "                ratio = m[j, i]\n",
        "                m[j] = m[j] - ratio * m[i]\n",
        "\n",
        "        if verbose:\n",
        "            print(f\"Крок {i+1}:\\n{m}\\n\")\n",
        "\n",
        "    return m[:, -1]\n",
        "\n",
        "# Приклад використання:\n",
        "a = np.array([[2, 1], [5, 3]])\n",
        "b = np.array([3, 7])\n",
        "print(f\"Вектор рішення:\\n{solve_gauss(a, b, verbose=True)}\")"
      ],
      "metadata": {
        "colab": {
          "base_uri": "https://localhost:8080/"
        },
        "id": "fNosMs2iakMc",
        "outputId": "50d09d98-9058-44aa-be7b-fe0a684e41ce"
      },
      "execution_count": 30,
      "outputs": [
        {
          "output_type": "stream",
          "name": "stdout",
          "text": [
            "Визначник матриці A: 1.0\n",
            "Крок 1:\n",
            "[[ 1.   0.5  1.5]\n",
            " [ 0.   0.5 -0.5]]\n",
            "\n",
            "Крок 2:\n",
            "[[ 1.  0.  2.]\n",
            " [ 0.  1. -1.]]\n",
            "\n",
            "Вектор рішення:\n",
            "[ 2. -1.]\n"
          ]
        }
      ]
    }
  ]
}