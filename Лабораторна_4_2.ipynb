{
  "nbformat": 4,
  "nbformat_minor": 0,
  "metadata": {
    "colab": {
      "provenance": [],
      "authorship_tag": "ABX9TyPA7z7r6shFhMgAQLT2rO/h",
      "include_colab_link": true
    },
    "kernelspec": {
      "name": "python3",
      "display_name": "Python 3"
    },
    "language_info": {
      "name": "python"
    }
  },
  "cells": [
    {
      "cell_type": "markdown",
      "metadata": {
        "id": "view-in-github",
        "colab_type": "text"
      },
      "source": [
        "<a href=\"https://colab.research.google.com/github/DimDragg/-/blob/main/%D0%9B%D0%B0%D0%B1%D0%BE%D1%80%D0%B0%D1%82%D0%BE%D1%80%D0%BD%D0%B0_4_2.ipynb\" target=\"_parent\"><img src=\"https://colab.research.google.com/assets/colab-badge.svg\" alt=\"Open In Colab\"/></a>"
      ]
    },
    {
      "cell_type": "markdown",
      "source": [
        "Чуркін Дмитро, був присутній на конференції, варіант 13, ФІТ 2-15"
      ],
      "metadata": {
        "id": "zUedxN6TrqK0"
      }
    },
    {
      "cell_type": "code",
      "source": [
        "import numpy as np\n",
        "a = np.array([\n",
        "   \t\t [1, -4, -5],\n",
        "   \t\t [2, -3, 1],\n",
        "   \t\t [1, 4, 2],\n",
        "])\n",
        "b = np.array([[-5], [-7], [-1]])\n"
      ],
      "metadata": {
        "id": "tWuom2xksoH9"
      },
      "execution_count": 16,
      "outputs": []
    },
    {
      "cell_type": "code",
      "source": [
        "#Матричний метод (1 спосіб)\n",
        "det_a = np.linalg.det(a)\n",
        "if det_a == 0:\n",
        "    print(\"Визначник дорівнює нулю - рішень немає\")\n",
        "else:\n",
        "    a_inv = np.linalg.inv(a)\n",
        "    print(f\"Обернена матриця до матриці A: \\r\\n {a_inv }\")\n",
        "    print(f\"Вектор рішення: \\r\\n {a_inv.dot(b)}\")"
      ],
      "metadata": {
        "colab": {
          "base_uri": "https://localhost:8080/"
        },
        "id": "Le1Z-8kgsmvp",
        "outputId": "ef4fd725-c708-4657-f604-87b09098caec"
      },
      "execution_count": 17,
      "outputs": [
        {
          "output_type": "stream",
          "name": "stdout",
          "text": [
            "Обернена матриця до матриці A: \r\n",
            " [[ 0.18867925  0.22641509  0.35849057]\n",
            " [ 0.05660377 -0.13207547  0.20754717]\n",
            " [-0.20754717  0.1509434  -0.09433962]]\n",
            "Вектор рішення: \r\n",
            " [[-2.88679245]\n",
            " [ 0.43396226]\n",
            " [ 0.0754717 ]]\n"
          ]
        }
      ]
    },
    {
      "cell_type": "code",
      "source": [
        "# Напиши функцію для вирішення системи матричним методом (2 спосіб)\n",
        "def solve_inv_matrix(a, b, verbose=False):\n",
        "    det = np.linalg.det(a)\n",
        "    if verbose: print(f\"Визначник матриці A: {round(det)}\")\n",
        "    if det == 0:\n",
        "      \tprint(\"Визначник дорівнює нулю - рішень немає\")\n",
        "        return None\n",
        "\n",
        "    a_inv= np.linalg.inv(a)\n",
        "\t\tif verbose: print(f\"Обернена матриця до матриці A: \\r\\n {a_inv }\")\n",
        "\t\treturn a_inv.dot(b)\n",
        "\n",
        "print(f\"Вектор рішення: \\r\\n {solve_inv_matrix(a, b)}\")"
      ],
      "metadata": {
        "colab": {
          "base_uri": "https://localhost:8080/",
          "height": 106
        },
        "id": "PlEDsrxzvWp1",
        "outputId": "bc6f02e7-cdb3-471c-a10d-37e2e5877b70"
      },
      "execution_count": 18,
      "outputs": [
        {
          "output_type": "error",
          "ename": "TabError",
          "evalue": "inconsistent use of tabs and spaces in indentation (<ipython-input-18-1b3173125585>, line 7)",
          "traceback": [
            "\u001b[0;36m  File \u001b[0;32m\"<ipython-input-18-1b3173125585>\"\u001b[0;36m, line \u001b[0;32m7\u001b[0m\n\u001b[0;31m    return None\u001b[0m\n\u001b[0m    ^\u001b[0m\n\u001b[0;31mTabError\u001b[0m\u001b[0;31m:\u001b[0m inconsistent use of tabs and spaces in indentation\n"
          ]
        }
      ]
    },
    {
      "cell_type": "code",
      "source": [
        "#метод Крамера (1 спосіб)\n",
        "# Метод Крамера\n",
        "det_a = np.linalg.det(a)\n",
        "\n",
        "if det_a == 0:\n",
        "    print(\"Визначник дорівнює нулю — система не має єдиного розв’язку.\")\n",
        "else:\n",
        "    def replace_column(matrix, column_index, new_column):\n",
        "\t\t\t\tnew_matrix = np.copy(matrix)\n",
        "\t\t\t\tnew_matrix[:, column_index] = new_column\n",
        "\t\t\t\treturn new_matrix\n",
        "\n",
        "    # Обчислюємо Δx, Δy, Δz\n",
        "    delta_x = np.linalg.det(replace_column(a, 0, b.T))\n",
        "\t\tdelta_y = np.linalg.det(replace_column(a, 1, b.T))\n",
        "\t\tdelta_z = np.linalg.det(replace_column(a, 2, b.T))\n",
        "\n",
        "\t\t# Обчислюємо x, y, z\n",
        "\t\tprint('x =', delta_x / det_a)\n",
        "\t\tprint('y =', delta_y / det_a)\n",
        "\t\tprint('z =', delta_z / det_a)"
      ],
      "metadata": {
        "colab": {
          "base_uri": "https://localhost:8080/",
          "height": 106
        },
        "id": "JMY_6v23tM_s",
        "outputId": "7a0efe02-4c04-43ca-e5d9-3d8997c64378"
      },
      "execution_count": 19,
      "outputs": [
        {
          "output_type": "error",
          "ename": "TabError",
          "evalue": "inconsistent use of tabs and spaces in indentation (<ipython-input-19-0fefc2f7fe28>, line 9)",
          "traceback": [
            "\u001b[0;36m  File \u001b[0;32m\"<ipython-input-19-0fefc2f7fe28>\"\u001b[0;36m, line \u001b[0;32m9\u001b[0m\n\u001b[0;31m    new_matrix = np.copy(matrix)\u001b[0m\n\u001b[0m    ^\u001b[0m\n\u001b[0;31mTabError\u001b[0m\u001b[0;31m:\u001b[0m inconsistent use of tabs and spaces in indentation\n"
          ]
        }
      ]
    },
    {
      "cell_type": "code",
      "source": [
        "# Напиши функцію для вирішення системи методом Крамера\n",
        "def solve_cramer(a, b, verbose=False):\n",
        "    det = np.linalg.det(a)\n",
        "    if verbose: print(f\"Визначник матриці A: {round(det)}\")\n",
        "    if det == 0:\n",
        "        print(\"Визначник дорівнює нулю - рішень немає\")\n",
        "        return None\n",
        "\n",
        "    len_a = len(a)\n",
        "    x = np.zeros((len_a, 1))\n",
        "    for i in range(len_a):\n",
        "        temp = np.copy(a)\n",
        "        temp[:, [i]] = b\n",
        "        x[i, 0] = np.linalg.det(temp)/det\n",
        "\n",
        "    return x\n",
        "\n",
        "\n",
        "print(f\"Вектор рішення: \\r\\n {solve_cramer(a, b)}\")"
      ],
      "metadata": {
        "colab": {
          "base_uri": "https://localhost:8080/"
        },
        "id": "y6PN8thnuZou",
        "outputId": "42b8305d-0972-4c25-b5f5-dede61cdc57e"
      },
      "execution_count": 11,
      "outputs": [
        {
          "output_type": "stream",
          "name": "stdout",
          "text": [
            "Вектор рішення: \r\n",
            " [[2.]\n",
            " [1.]\n",
            " [1.]]\n"
          ]
        }
      ]
    },
    {
      "cell_type": "code",
      "source": [
        "x = np.linalg.solve(a, b)\n",
        "\n",
        "print(x)"
      ],
      "metadata": {
        "colab": {
          "base_uri": "https://localhost:8080/"
        },
        "id": "SXFZ-AMIwCQM",
        "outputId": "cdcb3f2e-f38c-462d-e8c3-b8affe315e19"
      },
      "execution_count": 15,
      "outputs": [
        {
          "output_type": "stream",
          "name": "stdout",
          "text": [
            "[[2.]\n",
            " [1.]\n",
            " [1.]]\n"
          ]
        }
      ]
    },
    {
      "cell_type": "code",
      "source": [
        "# Напиши функцію для вирішення системи методом Гауса\n",
        "def solve_gausse(a, b, verbose=False):\n",
        "    det = np.linalg.det(a)\n",
        "\t\tif verbose: print(f\"Визначник матриці A: {round(det)}\")\n",
        "\t\tif det == 0:\n",
        "\t\t\t\tprint(\"Визначник дорівнює нулю - рішень немає\")\n",
        "\t\t\t\treturn None\n",
        "\t\t# Reading number of unknowns\n",
        "\t\tn = len(b)\n",
        "\t\tm = np.concatenate([a, b], axis=1, dtype=float)\n",
        "\n",
        "\t\t# Applying Gauss-Jordan Elimination\n",
        "\t\tfor i in range(n):\n",
        "\n",
        "\t\t# Swap rows to avoid division by 0\n",
        "\t\t\t\tif m[i, i] == 0:\n",
        "\t\t\t\t\t\tfor k in range(i+1, n):\n",
        "\t\t\t\t\t\t\t\tif m[k, k] != 0:\n",
        "\t\t\t\t\t\t\t\t\t\tm[[i, k], :] = m[[k, i], :]\n",
        "\t\t\t\t\t\t\t\t\t\tbreak\n",
        "\n",
        "\n",
        "\t\t\t\tif m[i, i] != 1:\n",
        "    \t\t\t\tm[i, :] *= 1/m[i, i]\n",
        "\n",
        "\t\t\t\tfor j in range(n):\n",
        "        \t\tif i != j:\n",
        "\t\t\t\t\t\t\t\tratio = m[j][i]/m[i][i]\n",
        "\n",
        "\t\t\t\t\t\t\t\tm[j, :] = m[j, :] - ratio * m[i, :]\n",
        "\n",
        "\t\treturn m[:, [-1]]\n",
        "\n",
        "print(f\"Вектор рішення: \\r\\n {solve_gausse(a, b)}\")"
      ],
      "metadata": {
        "colab": {
          "base_uri": "https://localhost:8080/",
          "height": 106
        },
        "id": "MKYIbENEzKOw",
        "outputId": "f9899d05-2b6e-4167-b84b-8266e7289f65"
      },
      "execution_count": 21,
      "outputs": [
        {
          "output_type": "error",
          "ename": "IndentationError",
          "evalue": "unindent does not match any outer indentation level (<tokenize>, line 27)",
          "traceback": [
            "\u001b[0;36m  File \u001b[0;32m\"<tokenize>\"\u001b[0;36m, line \u001b[0;32m27\u001b[0m\n\u001b[0;31m    if i != j:\u001b[0m\n\u001b[0m    ^\u001b[0m\n\u001b[0;31mIndentationError\u001b[0m\u001b[0;31m:\u001b[0m unindent does not match any outer indentation level\n"
          ]
        }
      ]
    }
  ]
}