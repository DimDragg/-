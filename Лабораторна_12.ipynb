{
  "nbformat": 4,
  "nbformat_minor": 0,
  "metadata": {
    "colab": {
      "provenance": [],
      "authorship_tag": "ABX9TyNayDwOOl+tP2Bz3+xXco/h",
      "include_colab_link": true
    },
    "kernelspec": {
      "name": "python3",
      "display_name": "Python 3"
    },
    "language_info": {
      "name": "python"
    }
  },
  "cells": [
    {
      "cell_type": "markdown",
      "metadata": {
        "id": "view-in-github",
        "colab_type": "text"
      },
      "source": [
        "<a href=\"https://colab.research.google.com/github/DimDragg/-/blob/main/%D0%9B%D0%B0%D0%B1%D0%BE%D1%80%D0%B0%D1%82%D0%BE%D1%80%D0%BD%D0%B0_12.ipynb\" target=\"_parent\"><img src=\"https://colab.research.google.com/assets/colab-badge.svg\" alt=\"Open In Colab\"/></a>"
      ]
    },
    {
      "cell_type": "markdown",
      "source": [
        "Чуркін Дмитро, був присутній на парі, ФІТ 2-15, в списку 13"
      ],
      "metadata": {
        "id": "4T-WDIxKH7YH"
      }
    },
    {
      "cell_type": "markdown",
      "source": [
        "1 формула (трапеція)"
      ],
      "metadata": {
        "id": "-of5Gf4zICTq"
      }
    },
    {
      "cell_type": "code",
      "execution_count": 26,
      "metadata": {
        "colab": {
          "base_uri": "https://localhost:8080/"
        },
        "id": "ygGfpxhJH1tN",
        "outputId": "806ed4d5-0656-4ee1-d332-cd31647b73c3"
      },
      "outputs": [
        {
          "output_type": "stream",
          "name": "stdout",
          "text": [
            "1) Trapetzia method result: 0.51685\n",
            "1) Check with SciPy quad method: 0.51685\n"
          ]
        }
      ],
      "source": [
        "import numpy as np\n",
        "from scipy import integrate\n",
        "\n",
        "def f(x):\n",
        "    return 1 / np.sqrt(0.5 * x + 2)\n",
        "\n",
        "a, b, n = 0.4, 1.2, 100  # межі інтегрування та кількість розбиттів\n",
        "\n",
        "def trapezoidal_rule(f, a, b, n):\n",
        "    h = (b - a) / n\n",
        "    total = 0.5 * (f(a) + f(b))\n",
        "    for i in range(1, n):\n",
        "        total += f(a + i * h)\n",
        "    return h * total\n",
        "\n",
        "integral = trapezoidal_rule(f, a, b, n)\n",
        "print(\"1) Trapetzia method result:\", round(integral, 5))\n",
        "\n",
        "v, err = integrate.quad(f, a, b)\n",
        "print(\"1) Check with SciPy quad method:\", round(v, 5))\n"
      ]
    },
    {
      "cell_type": "markdown",
      "source": [
        "2 формула (трапеція)"
      ],
      "metadata": {
        "id": "S2KojQaxIKk6"
      }
    },
    {
      "cell_type": "code",
      "source": [
        "def f(x):\n",
        "    return x**2 * np.log10(x)\n",
        "\n",
        "a, b, n = 1.4, 3, 100\n",
        "\n",
        "integral = trapezoidal_rule(f, a, b, n)\n",
        "print(\"2) Trapetzia method result:\", round(integral, 5))\n",
        "\n",
        "v, err = integrate.quad(f, a, b)\n",
        "print(\"2) Check with SciPy quad method:\", round(v, 5))\n"
      ],
      "metadata": {
        "colab": {
          "base_uri": "https://localhost:8080/"
        },
        "id": "yhB8msj4IMOK",
        "outputId": "7e0f3f50-cc11-4e35-eb25-5a13679d7f6e"
      },
      "execution_count": 25,
      "outputs": [
        {
          "output_type": "stream",
          "name": "stdout",
          "text": [
            "2) Trapetzia method result: 2.99003\n",
            "2) Check with SciPy quad method: 2.98996\n"
          ]
        }
      ]
    },
    {
      "cell_type": "markdown",
      "source": [
        "3 формула (трапеція)"
      ],
      "metadata": {
        "id": "m4tmHmtXIPrx"
      }
    },
    {
      "cell_type": "code",
      "source": [
        "def f(x):\n",
        "    return 1 / np.sqrt(x**2 + 1.2)\n",
        "\n",
        "a, b, n = 1.2, 2, 100\n",
        "\n",
        "integral = trapezoidal_rule(f, a, b, n)\n",
        "print(\"3) Trapetzia method result:\", round(integral, 5))\n",
        "\n",
        "v, err = integrate.quad(f, a, b)\n",
        "print(\"3) Check with SciPy quad method:\", round(v, 5))\n"
      ],
      "metadata": {
        "colab": {
          "base_uri": "https://localhost:8080/"
        },
        "id": "Mb2qeKn8IRbx",
        "outputId": "aa530ed6-aae3-4346-bb74-a91cc9120099"
      },
      "execution_count": 24,
      "outputs": [
        {
          "output_type": "stream",
          "name": "stdout",
          "text": [
            "3) Trapetzia method result: 0.4156\n",
            "3) Check with SciPy quad method: 0.41559\n"
          ]
        }
      ]
    },
    {
      "cell_type": "markdown",
      "source": [
        "1 формула (прямокутник)"
      ],
      "metadata": {
        "id": "XZ4gjqmdIjcF"
      }
    },
    {
      "cell_type": "code",
      "source": [
        "from scipy import integrate\n",
        "import numpy as np\n",
        "\n",
        "# Виберіть потрібну функцію та межі інтегрування нижче:\n",
        "\n",
        "# Інтеграл 1: ∫[0.4; 1.2] dx / √(0.5x + 2)\n",
        "def f1(x):\n",
        "    return 1 / np.sqrt(0.5 * x + 2)\n",
        "a, b = 0.4, 1.2\n",
        "\n",
        "# Кількість розбиттів\n",
        "n = 100\n",
        "h = (b - a) / n\n",
        "\n",
        "# Метод лівих прямокутників\n",
        "def left_rec(f1, a, b):\n",
        "    return h * sum(f1(a + i * h) for i in range(n))\n",
        "\n",
        "# Метод правих прямокутників\n",
        "def right_rec(f1, a, b):\n",
        "    return h * sum(f1(a + (i + 1) * h) for i in range(n))\n",
        "\n",
        "# Метод середніх прямокутників\n",
        "def aver_rec(f1, a, b):\n",
        "    return h * sum(f1(a + (i + 0.5) * h) for i in range(n))\n",
        "\n",
        "# Результати\n",
        "print(\"Метод лівих прямокутників:\", round(left_rec(f1, a, b), 5))\n",
        "print(\"Метод правих прямокутників:\", round(right_rec(f1, a, b), 5))\n",
        "print(\"Метод середніх прямокутників:\", round(aver_rec(f1, a, b), 5))\n",
        "\n",
        "# Перевірка через scipy\n",
        "v, err = integrate.quad(f1, a, b)\n",
        "print(\"Перевірка (SciPy quad):\", round(v, 5))\n"
      ],
      "metadata": {
        "colab": {
          "base_uri": "https://localhost:8080/"
        },
        "id": "tzkdB8_QJXoj",
        "outputId": "1397d879-2956-4ba1-d134-d91da6a29923"
      },
      "execution_count": 23,
      "outputs": [
        {
          "output_type": "stream",
          "name": "stdout",
          "text": [
            "Метод лівих прямокутників: 0.51706\n",
            "Метод правих прямокутників: 0.51663\n",
            "Метод середніх прямокутників: 0.51685\n",
            "Перевірка (SciPy quad): 0.51685\n"
          ]
        }
      ]
    },
    {
      "cell_type": "markdown",
      "source": [
        "2 формула (прямокутник)"
      ],
      "metadata": {
        "id": "mGsl-ZPxMDlk"
      }
    },
    {
      "cell_type": "code",
      "source": [
        "# Інтеграл 2: ∫[1.4; 3] x² · lg(x) dx\n",
        "def f1(x):\n",
        "    return x**2 * np.log10(x)\n",
        "a, b = 1.4, 3\n",
        "\n",
        "# Кількість розбиттів\n",
        "n = 100\n",
        "h = (b - a) / n\n",
        "\n",
        "# Метод лівих прямокутників\n",
        "def left_rec(f1, a, b):\n",
        "    return h * sum(f1(a + i * h) for i in range(n))\n",
        "\n",
        "# Метод правих прямокутників\n",
        "def right_rec(f1, a, b):\n",
        "    return h * sum(f1(a + (i + 1) * h) for i in range(n))\n",
        "\n",
        "# Метод середніх прямокутників\n",
        "def aver_rec(f1, a, b):\n",
        "    return h * sum(f1(a + (i + 0.5) * h) for i in range(n))\n",
        "\n",
        "# Результати\n",
        "print(\"Метод лівих прямокутників:\", round(left_rec(f1, a, b), 5))\n",
        "print(\"Метод правих прямокутників:\", round(right_rec(f1, a, b), 5))\n",
        "print(\"Метод середніх прямокутників:\", round(aver_rec(f1, a, b), 5))\n",
        "\n",
        "# Перевірка через scipy\n",
        "v, err = integrate.quad(f1, a, b)\n",
        "print(\"Перевірка (SciPy quad):\", round(v, 5))"
      ],
      "metadata": {
        "colab": {
          "base_uri": "https://localhost:8080/"
        },
        "id": "_BLvwqr8L3Ms",
        "outputId": "3db587ee-550a-467a-bb56-5d3f0d2a7d19"
      },
      "execution_count": 22,
      "outputs": [
        {
          "output_type": "stream",
          "name": "stdout",
          "text": [
            "Метод лівих прямокутників: 2.95797\n",
            "Метод правих прямокутників: 3.02209\n",
            "Метод середніх прямокутників: 2.98993\n",
            "Перевірка (SciPy quad): 2.98996\n"
          ]
        }
      ]
    },
    {
      "cell_type": "markdown",
      "source": [
        "3 формула (прямокутник)"
      ],
      "metadata": {
        "id": "iAZZwJdVMHfo"
      }
    },
    {
      "cell_type": "code",
      "source": [
        "# Інтеграл 3: ∫[1.2; 2] dx / √(x² + 1.2)\n",
        "def f1(x):\n",
        "    return 1 / np.sqrt(x**2 + 1.2)\n",
        "a, b = 1.2, 2\n",
        "\n",
        "# Кількість розбиттів\n",
        "n = 100\n",
        "h = (b - a) / n\n",
        "\n",
        "# Метод лівих прямокутників\n",
        "def left_rec(f1, a, b):\n",
        "    return h * sum(f1(a + i * h) for i in range(n))\n",
        "\n",
        "# Метод правих прямокутників\n",
        "def right_rec(f1, a, b):\n",
        "    return h * sum(f1(a + (i + 1) * h) for i in range(n))\n",
        "\n",
        "# Метод середніх прямокутників\n",
        "def aver_rec(f1, a, b):\n",
        "    return h * sum(f1(a + (i + 0.5) * h) for i in range(n))\n",
        "\n",
        "# Результати\n",
        "print(\"Метод лівих прямокутників:\", round(left_rec(f1, a, b), 5))\n",
        "print(\"Метод правих прямокутників:\", round(right_rec(f1, a, b), 5))\n",
        "print(\"Метод середніх прямокутників:\", round(aver_rec(f1, a, b), 5))\n",
        "\n",
        "# Перевірка через scipy\n",
        "v, err = integrate.quad(f1, a, b)\n",
        "print(\"Перевірка (SciPy quad):\", round(v, 5))"
      ],
      "metadata": {
        "colab": {
          "base_uri": "https://localhost:8080/"
        },
        "id": "ZWqMYPg_L-Dc",
        "outputId": "786fb6b4-960e-4c92-bf42-6e944ef303f0"
      },
      "execution_count": 21,
      "outputs": [
        {
          "output_type": "stream",
          "name": "stdout",
          "text": [
            "Метод лівих прямокутників: 0.4163\n",
            "Метод правих прямокутників: 0.41489\n",
            "Метод середніх прямокутників: 0.41559\n",
            "Перевірка (SciPy quad): 0.41559\n"
          ]
        }
      ]
    },
    {
      "cell_type": "markdown",
      "source": [
        "1 формула (Сипсон)"
      ],
      "metadata": {
        "id": "4RJ1Wye5MMof"
      }
    },
    {
      "cell_type": "code",
      "source": [
        "from scipy import integrate\n",
        "import numpy as np\n",
        "\n",
        "# Інтеграл 1: ∫[0.4; 1.2] dx / √(0.5x + 2)\n",
        "def f(x):\n",
        "    return 1 / np.sqrt(0.5 * x + 2)\n",
        "a, b = 0.4, 1.2\n",
        "\n",
        "# Кількість розбиттів (парне!)\n",
        "n = 100\n",
        "if n % 2 != 0:\n",
        "    raise ValueError(\"Для методу Сімпсона n має бути парним!\")\n",
        "\n",
        "h = (b - a) / n\n",
        "\n",
        "# Метод Сімпсона\n",
        "def simpson_rule(f, a, b, n):\n",
        "    integral = f(a) + f(b)\n",
        "    for i in range(1, n):\n",
        "        x = a + i * h\n",
        "        if i % 2 == 0:\n",
        "            integral += 2 * f(x)\n",
        "        else:\n",
        "            integral += 4 * f(x)\n",
        "    return integral * h / 3\n",
        "\n",
        "# Результат\n",
        "print(\"Метод Сімпсона:\", round(simpson_rule(f, a, b, n), 5))\n",
        "\n",
        "# Перевірка через SciPy\n",
        "v, err = integrate.quad(f, a, b)\n",
        "print(\"Перевірка (SciPy quad):\", round(v, 5))\n"
      ],
      "metadata": {
        "colab": {
          "base_uri": "https://localhost:8080/"
        },
        "id": "Rux3Kv8OJ5WC",
        "outputId": "7419c74e-07ab-47c4-9646-e2978d7fda7a"
      },
      "execution_count": 18,
      "outputs": [
        {
          "output_type": "stream",
          "name": "stdout",
          "text": [
            "Метод Сімпсона: 0.51685\n",
            "Перевірка (SciPy quad): 0.51685\n"
          ]
        }
      ]
    },
    {
      "cell_type": "markdown",
      "source": [
        "2 формула (Сипсон)"
      ],
      "metadata": {
        "id": "j7Qe-y29Mc4z"
      }
    },
    {
      "cell_type": "code",
      "source": [
        "# Інтеграл 2: ∫[1.4; 3] x² · lg(x) dx\n",
        "def f(x):\n",
        "     return x**2 * np.log10(x)\n",
        "a, b = 1.4, 3\n",
        "\n",
        "# Кількість розбиттів (парне!)\n",
        "n = 100\n",
        "if n % 2 != 0:\n",
        "    raise ValueError(\"Для методу Сімпсона n має бути парним!\")\n",
        "\n",
        "h = (b - a) / n\n",
        "\n",
        "# Метод Сімпсона\n",
        "def simpson_rule(f, a, b, n):\n",
        "    integral = f(a) + f(b)\n",
        "    for i in range(1, n):\n",
        "        x = a + i * h\n",
        "        if i % 2 == 0:\n",
        "            integral += 2 * f(x)\n",
        "        else:\n",
        "            integral += 4 * f(x)\n",
        "    return integral * h / 3\n",
        "\n",
        "# Результат\n",
        "print(\"Метод Сімпсона:\", round(simpson_rule(f, a, b, n), 5))\n",
        "\n",
        "# Перевірка через SciPy\n",
        "v, err = integrate.quad(f, a, b)\n",
        "print(\"Перевірка (SciPy quad):\", round(v, 5))"
      ],
      "metadata": {
        "colab": {
          "base_uri": "https://localhost:8080/"
        },
        "id": "p_zj5tWUMSsX",
        "outputId": "9f7e52e8-93ed-4f0d-992a-79f9b6e9585b"
      },
      "execution_count": 19,
      "outputs": [
        {
          "output_type": "stream",
          "name": "stdout",
          "text": [
            "Метод Сімпсона: 2.98996\n",
            "Перевірка (SciPy quad): 2.98996\n"
          ]
        }
      ]
    },
    {
      "cell_type": "markdown",
      "source": [
        "3 формула (Сипсон)"
      ],
      "metadata": {
        "id": "pi3dqHXOMmtK"
      }
    },
    {
      "cell_type": "code",
      "source": [
        "# Інтеграл 3: ∫[1.2; 2] dx / √(x² + 1.2)\n",
        "def f(x):\n",
        "    return 1 / np.sqrt(x**2 + 1.2)\n",
        "a, b = 1.2, 2\n",
        "\n",
        "# Кількість розбиттів (парне!)\n",
        "n = 100\n",
        "if n % 2 != 0:\n",
        "    raise ValueError(\"Для методу Сімпсона n має бути парним!\")\n",
        "\n",
        "h = (b - a) / n\n",
        "\n",
        "# Метод Сімпсона\n",
        "def simpson_rule(f, a, b, n):\n",
        "    integral = f(a) + f(b)\n",
        "    for i in range(1, n):\n",
        "        x = a + i * h\n",
        "        if i % 2 == 0:\n",
        "            integral += 2 * f(x)\n",
        "        else:\n",
        "            integral += 4 * f(x)\n",
        "    return integral * h / 3\n",
        "\n",
        "# Результат\n",
        "print(\"Метод Сімпсона:\", round(simpson_rule(f, a, b, n), 5))\n",
        "\n",
        "# Перевірка через SciPy\n",
        "v, err = integrate.quad(f, a, b)\n",
        "print(\"Перевірка (SciPy quad):\", round(v, 5))"
      ],
      "metadata": {
        "colab": {
          "base_uri": "https://localhost:8080/"
        },
        "id": "f1eFzCzDMkzb",
        "outputId": "b8c82b00-fd4d-4c41-d405-6cce96886b4e"
      },
      "execution_count": 20,
      "outputs": [
        {
          "output_type": "stream",
          "name": "stdout",
          "text": [
            "Метод Сімпсона: 0.41559\n",
            "Перевірка (SciPy quad): 0.41559\n"
          ]
        }
      ]
    }
  ]
}