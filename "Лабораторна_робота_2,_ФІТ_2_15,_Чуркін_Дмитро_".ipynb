{
  "nbformat": 4,
  "nbformat_minor": 0,
  "metadata": {
    "colab": {
      "provenance": [],
      "authorship_tag": "ABX9TyPSNC8AL4d+Eqve0eXIu1ef",
      "include_colab_link": true
    },
    "kernelspec": {
      "name": "python3",
      "display_name": "Python 3"
    },
    "language_info": {
      "name": "python"
    }
  },
  "cells": [
    {
      "cell_type": "markdown",
      "metadata": {
        "id": "view-in-github",
        "colab_type": "text"
      },
      "source": [
        "<a href=\"https://colab.research.google.com/github/DimDragg/-/blob/main/%22%D0%9B%D0%B0%D0%B1%D0%BE%D1%80%D0%B0%D1%82%D0%BE%D1%80%D0%BD%D0%B0_%D1%80%D0%BE%D0%B1%D0%BE%D1%82%D0%B0_2%2C_%D0%A4%D0%86%D0%A2_2_15%2C_%D0%A7%D1%83%D1%80%D0%BA%D1%96%D0%BD_%D0%94%D0%BC%D0%B8%D1%82%D1%80%D0%BE_%22.ipynb\" target=\"_parent\"><img src=\"https://colab.research.google.com/assets/colab-badge.svg\" alt=\"Open In Colab\"/></a>"
      ]
    },
    {
      "cell_type": "markdown",
      "source": [
        "Чуркін Дмитро, Лабораторна робота 2, ФІТ 2-15, Варіант 13."
      ],
      "metadata": {
        "id": "YRoZPXcCQwUS"
      }
    },
    {
      "cell_type": "code",
      "source": [
        "import numpy as np\n",
        "\n",
        "import pandas as pd\n",
        "\n",
        "# Визначаємо функцію\n",
        "\n",
        "def f (x):\n",
        "\n",
        "\ty = np.cos(x)*np.sin(x)*(x**2+x+1)\n",
        "\n",
        "\treturn y\n",
        "\n",
        "# Визначаємо границі відрізку\n",
        "\n",
        "a = -6\n",
        "\n",
        "b = -4\n",
        "\n",
        "# Визначаємо точність розв'язку\n",
        "\n",
        "h = 0.001\n",
        "\n",
        "# Поділяємо відрізок навпіл\n",
        "\n",
        "c = (a+b)/2\n",
        "\n",
        "# Зберігаємо результати обчислень\n",
        "\n",
        "data_A = [a]\n",
        "\n",
        "data_B = [b]\n",
        "\n",
        "data_C = [c]\n",
        "\n",
        "data_F_A = [f(a)]\n",
        "\n",
        "data_F_B = [f(b)]\n",
        "\n",
        "data_F_C = [f(c)]\n",
        "\n",
        "# Перевіряємо досягнення точності\n",
        "\n",
        "while abs(f(c)) > h:\n",
        "\n",
        "\t# Звужуємо відрізок\n",
        "\n",
        "\tif np.sign(f(c)) == np.sign(f(a)):\n",
        "\n",
        "\t\ta = c\n",
        "\n",
        "\telse:\n",
        "\n",
        "\t\tb = c\n",
        "\n",
        "\t# Поділяємо відрізок навпіл\n",
        "\n",
        "\tc = (a+b)/2\n",
        "\n",
        "\t# Зберігаємо результати обчислень\n",
        "data_A.append(a)\n",
        "data_B.append(b)\n",
        "data_C.append(c)\n",
        "data_F_A.append(f(a))\n",
        "data_F_B.append(f(b))\n",
        "data_F_C.append(f(c))\n",
        "\n",
        "# Відображаємо результати обчислень\n",
        "print(\"Результати обчислень\")\n",
        "print()\n",
        "data = pd.DataFrame({'a': data_A,\n",
        "\n",
        "  \t'F(a)': data_F_A,\n",
        "\n",
        "  \t'c': data_C,\n",
        "\n",
        "  \t'F(c)': data_F_C,\n",
        "\n",
        "  \t'b': data_B,\n",
        "\n",
        "  \t'F(b)': data_F_B})\n",
        "\n",
        "print(data)\n",
        "\n",
        "# Відображаємо наближений корінь рівняння\n",
        "\n",
        "print()\n",
        "\n",
        "print( \"В точці с = ', с, ', f(c) = ', f(c)\")"
      ],
      "metadata": {
        "colab": {
          "base_uri": "https://localhost:8080/"
        },
        "id": "KlkLK4D1SJL1",
        "outputId": "66bb22e9-21d1-4682-dcb9-420df5cd1c7d"
      },
      "execution_count": null,
      "outputs": [
        {
          "output_type": "stream",
          "name": "stdout",
          "text": [
            "Результати обчислень\n",
            "\n",
            "          a     F(a)         c      F(c)         b      F(b)\n",
            "0 -6.000000  8.31688 -5.000000  5.712222 -4.000000 -6.430829\n",
            "1 -4.712891  0.00928 -4.712402  0.000247 -4.711914 -0.008781\n",
            "\n",
            "В точці с = ', с, ', f(c) = ', f(c)\n"
          ]
        }
      ]
    },
    {
      "cell_type": "code",
      "source": [
        "import numpy as np\n",
        "\n",
        "import scipy.optimize as sp\n",
        "\n",
        "def f(x):\n",
        "\ty=np.cos(x)*np.sin(x) * (x**2 + x + 1)\n",
        "\treturn y\n",
        "\n",
        "a = - 6\n",
        "\n",
        "b = - 4\n",
        "\n",
        "tol = 4.e-6\n",
        "\n",
        "x = sp.bisect(f, a, b, (), tol) #функція для метода\n",
        "\n",
        "print('The approximate solution x is:', x)\n",
        "\n",
        "print('And the value f(x) is:', f(x))"
      ],
      "metadata": {
        "colab": {
          "base_uri": "https://localhost:8080/"
        },
        "id": "aicfEk_aXfyJ",
        "outputId": "160dae79-1854-4d52-e676-eb01606706db"
      },
      "execution_count": null,
      "outputs": [
        {
          "output_type": "stream",
          "name": "stdout",
          "text": [
            "The approximate solution x is: -4.712390899658203\n",
            "And the value f(x) is: 3.549549939775917e-05\n"
          ]
        }
      ]
    },
    {
      "cell_type": "code",
      "source": [
        "import sympy as sym\n",
        "\n",
        "x = sym.Symbol('x')\n",
        "\n",
        "y = sym.cos(x)*sym.sin(x)*(x**6+x+4)\n",
        "\n",
        "s = sym.solve(y)\n",
        "\n",
        "print(s)"
      ],
      "metadata": {
        "colab": {
          "base_uri": "https://localhost:8080/"
        },
        "id": "XJB7f7HgY6ex",
        "outputId": "ccdca761-acb0-488b-d54d-8e3aa70680dc"
      },
      "execution_count": null,
      "outputs": [
        {
          "output_type": "stream",
          "name": "stdout",
          "text": [
            "[0, pi/2, pi, 3*pi/2, CRootOf(x**6 + x + 4, 0), CRootOf(x**6 + x + 4, 1), CRootOf(x**6 + x + 4, 2), CRootOf(x**6 + x + 4, 3), CRootOf(x**6 + x + 4, 4), CRootOf(x**6 + x + 4, 5)]\n"
          ]
        }
      ]
    },
    {
      "cell_type": "code",
      "source": [
        "import sympy as sym\n",
        "\n",
        "x, a, b, c = sym.symbols('x, a, b, c')\n",
        "y = a * x**4 + b*x + c\n",
        "s = sym.solve(y, x)\n",
        "\n",
        "print(s)"
      ],
      "metadata": {
        "colab": {
          "base_uri": "https://localhost:8080/"
        },
        "id": "WJMZozDAY-id",
        "outputId": "c4d639fc-3e40-40ca-c576-6b3c1bd264e8"
      },
      "execution_count": null,
      "outputs": [
        {
          "output_type": "stream",
          "name": "stdout",
          "text": [
            "[Piecewise((-sqrt(-(-b**2/a**2)**(1/3))/2 - sqrt((-b**2/a**2)**(1/3) + 2*b/(a*sqrt(-(-b**2/a**2)**(1/3))))/2, Eq(c/a, 0)), (-sqrt(2*(sqrt(-c**3/(27*a**3) + b**4/(256*a**4)) + b**2/(16*a**2))**(1/3) + 2*c/(3*a*(sqrt(-c**3/(27*a**3) + b**4/(256*a**4)) + b**2/(16*a**2))**(1/3)))/2 - sqrt(-2*(sqrt(-c**3/(27*a**3) + b**4/(256*a**4)) + b**2/(16*a**2))**(1/3) + 2*b/(a*sqrt(2*(sqrt(-c**3/(27*a**3) + b**4/(256*a**4)) + b**2/(16*a**2))**(1/3) + 2*c/(3*a*(sqrt(-c**3/(27*a**3) + b**4/(256*a**4)) + b**2/(16*a**2))**(1/3)))) - 2*c/(3*a*(sqrt(-c**3/(27*a**3) + b**4/(256*a**4)) + b**2/(16*a**2))**(1/3)))/2, True)), Piecewise((-sqrt(-(-b**2/a**2)**(1/3))/2 + sqrt((-b**2/a**2)**(1/3) + 2*b/(a*sqrt(-(-b**2/a**2)**(1/3))))/2, Eq(c/a, 0)), (-sqrt(2*(sqrt(-c**3/(27*a**3) + b**4/(256*a**4)) + b**2/(16*a**2))**(1/3) + 2*c/(3*a*(sqrt(-c**3/(27*a**3) + b**4/(256*a**4)) + b**2/(16*a**2))**(1/3)))/2 + sqrt(-2*(sqrt(-c**3/(27*a**3) + b**4/(256*a**4)) + b**2/(16*a**2))**(1/3) + 2*b/(a*sqrt(2*(sqrt(-c**3/(27*a**3) + b**4/(256*a**4)) + b**2/(16*a**2))**(1/3) + 2*c/(3*a*(sqrt(-c**3/(27*a**3) + b**4/(256*a**4)) + b**2/(16*a**2))**(1/3)))) - 2*c/(3*a*(sqrt(-c**3/(27*a**3) + b**4/(256*a**4)) + b**2/(16*a**2))**(1/3)))/2, True)), Piecewise((sqrt(-(-b**2/a**2)**(1/3))/2 - sqrt((-b**2/a**2)**(1/3) - 2*b/(a*sqrt(-(-b**2/a**2)**(1/3))))/2, Eq(c/a, 0)), (sqrt(2*(sqrt(-c**3/(27*a**3) + b**4/(256*a**4)) + b**2/(16*a**2))**(1/3) + 2*c/(3*a*(sqrt(-c**3/(27*a**3) + b**4/(256*a**4)) + b**2/(16*a**2))**(1/3)))/2 - sqrt(-2*(sqrt(-c**3/(27*a**3) + b**4/(256*a**4)) + b**2/(16*a**2))**(1/3) - 2*b/(a*sqrt(2*(sqrt(-c**3/(27*a**3) + b**4/(256*a**4)) + b**2/(16*a**2))**(1/3) + 2*c/(3*a*(sqrt(-c**3/(27*a**3) + b**4/(256*a**4)) + b**2/(16*a**2))**(1/3)))) - 2*c/(3*a*(sqrt(-c**3/(27*a**3) + b**4/(256*a**4)) + b**2/(16*a**2))**(1/3)))/2, True)), Piecewise((sqrt(-(-b**2/a**2)**(1/3))/2 + sqrt((-b**2/a**2)**(1/3) - 2*b/(a*sqrt(-(-b**2/a**2)**(1/3))))/2, Eq(c/a, 0)), (sqrt(2*(sqrt(-c**3/(27*a**3) + b**4/(256*a**4)) + b**2/(16*a**2))**(1/3) + 2*c/(3*a*(sqrt(-c**3/(27*a**3) + b**4/(256*a**4)) + b**2/(16*a**2))**(1/3)))/2 + sqrt(-2*(sqrt(-c**3/(27*a**3) + b**4/(256*a**4)) + b**2/(16*a**2))**(1/3) - 2*b/(a*sqrt(2*(sqrt(-c**3/(27*a**3) + b**4/(256*a**4)) + b**2/(16*a**2))**(1/3) + 2*c/(3*a*(sqrt(-c**3/(27*a**3) + b**4/(256*a**4)) + b**2/(16*a**2))**(1/3)))) - 2*c/(3*a*(sqrt(-c**3/(27*a**3) + b**4/(256*a**4)) + b**2/(16*a**2))**(1/3)))/2, True))]\n"
          ]
        }
      ]
    },
    {
      "cell_type": "code",
      "source": [
        "!pip install numdifftools"
      ],
      "metadata": {
        "id": "NMliF_iEBoQ2",
        "outputId": "a74ef50b-f11c-40a6-96bc-b8e326cbd064",
        "colab": {
          "base_uri": "https://localhost:8080/"
        }
      },
      "execution_count": null,
      "outputs": [
        {
          "output_type": "stream",
          "name": "stdout",
          "text": [
            "Collecting numdifftools\n",
            "  Downloading numdifftools-0.9.41-py2.py3-none-any.whl.metadata (39 kB)\n",
            "Requirement already satisfied: numpy>=1.9 in /usr/local/lib/python3.11/dist-packages (from numdifftools) (1.26.4)\n",
            "Requirement already satisfied: scipy>=0.8 in /usr/local/lib/python3.11/dist-packages (from numdifftools) (1.14.1)\n",
            "Downloading numdifftools-0.9.41-py2.py3-none-any.whl (100 kB)\n",
            "\u001b[?25l   \u001b[90m━━━━━━━━━━━━━━━━━━━━━━━━━━━━━━━━━━━━━━━━\u001b[0m \u001b[32m0.0/100.2 kB\u001b[0m \u001b[31m?\u001b[0m eta \u001b[36m-:--:--\u001b[0m\r\u001b[2K   \u001b[90m━━━━━━━━━━━━━━━━━━━━━━━━━━━━━━━━━━━━━━━━\u001b[0m \u001b[32m100.2/100.2 kB\u001b[0m \u001b[31m3.4 MB/s\u001b[0m eta \u001b[36m0:00:00\u001b[0m\n",
            "\u001b[?25hInstalling collected packages: numdifftools\n",
            "Successfully installed numdifftools-0.9.41\n"
          ]
        }
      ]
    },
    {
      "cell_type": "code",
      "execution_count": null,
      "metadata": {
        "colab": {
          "base_uri": "https://localhost:8080/"
        },
        "id": "pEkZdn2X50yB",
        "outputId": "7c693998-46a7-4e86-80e6-5227bb95ec1f"
      },
      "outputs": [
        {
          "output_type": "stream",
          "name": "stdout",
          "text": [
            "Found segment: [-1, 0]\n",
            "Found segment: [1, 2]\n"
          ]
        }
      ],
      "source": [
        "#Лабораторна робота 2\n",
        "\n",
        "#Відокремлення коренів\n",
        "\n",
        "import numpy as np\n",
        "import numdifftools as nd\n",
        "def f(x):\n",
        "\t\treturn 3*x**4 - 4*x**3 + x**2 - 2*x - 5\n",
        "\n",
        "def find_segments(): #відокремлюємо корені\n",
        "\tsearch_range = np.arange(-5, 4, 1)\n",
        "\n",
        "\ta = None\n",
        "\n",
        "\tprevious_x = None\n",
        "\n",
        "\tcurrent_x = None\n",
        "\n",
        "\tsegments = []\n",
        "\n",
        "\tfor x in search_range:\n",
        "\n",
        "\t\t\tx = round(x, 4)\n",
        "\n",
        "\t\t\tcurrent_x = f(x)\n",
        "\n",
        "\t\t\tif previous_x != None and previous_x * current_x < 0:\n",
        "\n",
        "\t\t\t\tsegments.append((a, x))\n",
        "\n",
        "\t\t\ta = x\n",
        "\n",
        "\t\t\tprevious_x = current_x\n",
        "\n",
        "\treturn segments\n",
        "\n",
        "segments = find_segments()\n",
        "\n",
        "for a, b in segments:\n",
        "\n",
        "\tprint(f'Found segment: [{a}, {b}]')"
      ]
    },
    {
      "cell_type": "code",
      "source": [
        "import numpy as np\n",
        "\n",
        "import matplotlib.pyplot as plt\n",
        "\n",
        "# Визначення функції\n",
        "\n",
        "def f(x):\n",
        "\n",
        "\t\treturn 3*x**4 - 4*x**3 + x**2 - 2*x - 5\n",
        "\n",
        "# Генерація значень х\n",
        "\n",
        "x = np.linspace(-2, 2, 400)\n",
        "\n",
        "# Генерація значень у\n",
        "\n",
        "y = f(x)\n",
        "\n",
        "# Побудова графіка\n",
        "\n",
        "plt.figure(figsize=(8, 6))\n",
        "\n",
        "plt.plot(x, y, label='3 x^4 - 4 * x^2 + 2*x - 5', color='blue')\n",
        "\n",
        "plt.title('Графік функції 3 * x^4 - 4 *x^2 - 2*x - 5')\n",
        "\n",
        "plt.xlabel('x')\n",
        "\n",
        "plt.ylabel('f(x)')\n",
        "\n",
        "# Додавання осей з стрілками\n",
        "\n",
        "plt.axhline(0, color='black', linewidth=0.5)\n",
        "\n",
        "plt.axvline(0, color='black', linewidth=0.5)\n",
        "\n",
        "plt.text(2.05, -4, 'x', ha='center', va='center')\n",
        "\n",
        "plt.text(-0.3, 190, 'y', ha='center', va='center')\n",
        "\n",
        "plt.grid(True)\n",
        "plt.legend()\n",
        "plt.show()"
      ],
      "metadata": {
        "id": "j9dJn-L7BzIC",
        "colab": {
          "base_uri": "https://localhost:8080/",
          "height": 1000
        },
        "outputId": "df2f7578-2f7d-4aaf-c50b-e75b77ec59f4"
      },
      "execution_count": null,
      "outputs": [
        {
          "output_type": "display_data",
          "data": {
            "text/plain": [
              "<Figure size 800x600 with 1 Axes>"
            ],
            "image/png": "[encoded data removed]"
          },
          "metadata": {}
        }
      ]
    },
    {
      "cell_type": "markdown",
      "source": [
        "Як би я не шаманив, воно не бачить, вже й в інтернеті лазив і в АІ звертався, ні в яку."
      ],
      "metadata": {
        "id": "Jwp2llUrBknw"
      }
    },
    {
      "cell_type": "code",
      "source": [
        "#Лабораторна робота. Метод половинного ділення, хорд\n",
        "\n",
        "def rec(a, b, eps): # метод половинного ділення\n",
        "\t\twhile (abs(a-b) > eps):\n",
        "\t\t\t\tif f(a) * f((a + b) / 2) < 0 :\n",
        "\t\t\t\t\t\tb = (a + b) / 2\n",
        "          else:\n",
        "            a = (a + b) / 2\n",
        "        x = (a + b) / 2\n",
        "\tprint('x= ', round(x, 5),' - Half division method')\n",
        "\n",
        "def hord(a, b, eps): # метод хорд\n",
        "\tderivative_f = nd.Derivative(f, n = 1 )\n",
        "\tif f(a)* derivative_f(a) > 0:\n",
        "\t\tx0 = a\n",
        "\t\txi = b\n",
        "\telse:\n",
        "\t\tx0 = b\n",
        "\t\txi = a\n",
        "\txi_1= xi (xi-x0)*f(xi) / (f(xi) - f(x0))\n",
        "\n",
        "\twhile (abs(xi_1-xi) > eps):\n",
        "  \txi = xi_1\n",
        "\t\txi_1 = xi (xi-x0)*f(xi) / (f(xi) - f(x0))\n",
        "\tprint('x', round(xi_1, 5), ' - Chord method')\n",
        "\n",
        "if __name__ == \"__main__\"\n",
        "\n",
        "\ta1, b1 = - 2, - 1\n",
        "\n",
        "\ta2, b2 = 0, 1\n",
        "\n",
        "\teps = 0.001\n",
        "\n",
        "\tprint(\"Розв'язки на відрізку (-2,-1]\")\n",
        "\trec(a1, b1, eps)\n",
        "\thord(a1, b1, eps)\n",
        "\tprint(\"\\n Розв'язки на відрізку [0,1]\")"
      ],
      "metadata": {
        "colab": {
          "base_uri": "https://localhost:8080/",
          "height": 106
        },
        "id": "AoAHCr8i8jN4",
        "outputId": "400954e1-381e-4b4f-8ae8-80858c6d38fc"
      },
      "execution_count": null,
      "outputs": [
        {
          "output_type": "error",
          "ename": "IndentationError",
          "evalue": "unindent does not match any outer indentation level (<tokenize>, line 7)",
          "traceback": [
            "\u001b[0;36m  File \u001b[0;32m\"<tokenize>\"\u001b[0;36m, line \u001b[0;32m7\u001b[0m\n\u001b[0;31m    else:\u001b[0m\n\u001b[0m    ^\u001b[0m\n\u001b[0;31mIndentationError\u001b[0m\u001b[0;31m:\u001b[0m unindent does not match any outer indentation level\n"
          ]
        }
      ]
    }
  ]
}