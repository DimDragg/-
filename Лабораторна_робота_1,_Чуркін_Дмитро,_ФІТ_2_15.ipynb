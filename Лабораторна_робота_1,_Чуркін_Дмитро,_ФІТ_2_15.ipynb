{
  "nbformat": 4,
  "nbformat_minor": 0,
  "metadata": {
    "colab": {
      "provenance": [],
      "authorship_tag": "ABX9TyNIx8vqW/qDQENAAIcIhJRi",
      "include_colab_link": true
    },
    "kernelspec": {
      "name": "python3",
      "display_name": "Python 3"
    },
    "language_info": {
      "name": "python"
    }
  },
  "cells": [
    {
      "cell_type": "markdown",
      "metadata": {
        "id": "view-in-github",
        "colab_type": "text"
      },
      "source": [
        "<a href=\"https://colab.research.google.com/github/DimDragg/-/blob/main/%D0%9B%D0%B0%D0%B1%D0%BE%D1%80%D0%B0%D1%82%D0%BE%D1%80%D0%BD%D0%B0_%D1%80%D0%BE%D0%B1%D0%BE%D1%82%D0%B0_1%2C_%D0%A7%D1%83%D1%80%D0%BA%D1%96%D0%BD_%D0%94%D0%BC%D0%B8%D1%82%D1%80%D0%BE%2C_%D0%A4%D0%86%D0%A2_2_15.ipynb\" target=\"_parent\"><img src=\"https://colab.research.google.com/assets/colab-badge.svg\" alt=\"Open In Colab\"/></a>"
      ]
    },
    {
      "cell_type": "code",
      "execution_count": 10,
      "metadata": {
        "id": "oIQ4GQDnhJH6",
        "colab": {
          "base_uri": "https://localhost:8080/"
        },
        "outputId": "c5d61ede-2dc4-4f03-dd3b-6432a9084000"
      },
      "outputs": [
        {
          "output_type": "stream",
          "name": "stdout",
          "text": [
            "Друга рівність точніше з відносною похибкою: 0.00092\n"
          ]
        }
      ],
      "source": [
        "import numpy as np\n",
        "def f(x, y):\n",
        "    return np.abs(x - y) / np.abs(x)\n",
        "def main():\n",
        "    x1 = np.sqrt(31) # Точне значення sqrt(31)\n",
        "    x2 = 13 / 17 # Точне значення 13/17\n",
        "    x1_1 = 5.56 # Наближене значення sqrt(31)\n",
        "    x2_2 = 0.764 # Наближене значення 13/17\n",
        "    rel_error_x1 = f(x1, x1_1)\n",
        "    if rel_error_x1 < f(x2, x2_2):\n",
        "\t\t   print(\"Перша рівність точніше з відносною похибкою:\", round(rel_error_x1, 5))\n",
        "    elif f(x2, x2_2) < rel_error_x1:\n",
        "       print(\"Друга рівність точніше з відносною похибкою:\", round(f(x2, x2_2), 5))\n",
        "    else:\n",
        "       print(\"Обидві рівності мають однакову точність з відносною похибкою:\", round(f(x2, x2_2), 5))\n",
        "if __name__ == \"__main__\":\n",
        " main()"
      ]
    }
  ]
}